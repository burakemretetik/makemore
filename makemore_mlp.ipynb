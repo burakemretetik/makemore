{
  "nbformat": 4,
  "nbformat_minor": 0,
  "metadata": {
    "colab": {
      "provenance": [],
      "authorship_tag": "ABX9TyOv8ulMy6NVvxP+0xufOmvJ",
      "include_colab_link": true
    },
    "kernelspec": {
      "name": "python3",
      "display_name": "Python 3"
    },
    "language_info": {
      "name": "python"
    }
  },
  "cells": [
    {
      "cell_type": "markdown",
      "metadata": {
        "id": "view-in-github",
        "colab_type": "text"
      },
      "source": [
        "<a href=\"https://colab.research.google.com/github/burakemretetik/makemore/blob/main/makemore_mlp.ipynb\" target=\"_parent\"><img src=\"https://colab.research.google.com/assets/colab-badge.svg\" alt=\"Open In Colab\"/></a>"
      ]
    },
    {
      "cell_type": "markdown",
      "source": [
        "## MLP"
      ],
      "metadata": {
        "id": "SjxQSaRSz05D"
      }
    },
    {
      "cell_type": "markdown",
      "source": [
        "## Setup"
      ],
      "metadata": {
        "id": "YzytYZBHWnjs"
      }
    },
    {
      "cell_type": "code",
      "execution_count": 1,
      "metadata": {
        "id": "Phzkl8zsXaIe"
      },
      "outputs": [],
      "source": [
        "import torch\n",
        "import torch.nn.functional as F\n",
        "import matplotlib.pyplot as plt\n",
        "%matplotlib inline"
      ]
    },
    {
      "cell_type": "code",
      "source": [
        "words = open(\"names.txt\", \"r\").read().splitlines()\n",
        "words[:5]"
      ],
      "metadata": {
        "colab": {
          "base_uri": "https://localhost:8080/"
        },
        "id": "FRyGoWkZdEEt",
        "outputId": "2d2fbe07-d4e2-4e38-e8e4-7172321edc18"
      },
      "execution_count": 2,
      "outputs": [
        {
          "output_type": "execute_result",
          "data": {
            "text/plain": [
              "['emma', 'olivia', 'ava', 'isabella', 'sophia']"
            ]
          },
          "metadata": {},
          "execution_count": 2
        }
      ]
    },
    {
      "cell_type": "code",
      "source": [
        "# build the vocabulary of characters\n",
        "chars = sorted(list(set(\"\".join(words))))\n",
        "stoi = {s:i+1 for i, s in enumerate(chars)}\n",
        "stoi[\".\"] = 0\n",
        "itos = {i:s for s, i in stoi.items()}\n",
        "print(itos)"
      ],
      "metadata": {
        "id": "PaMjwUoRdUFF",
        "colab": {
          "base_uri": "https://localhost:8080/"
        },
        "outputId": "ef6c6805-a8d4-4655-891c-45429bea0185"
      },
      "execution_count": 126,
      "outputs": [
        {
          "output_type": "stream",
          "name": "stdout",
          "text": [
            "{1: 'a', 2: 'b', 3: 'c', 4: 'd', 5: 'e', 6: 'f', 7: 'g', 8: 'h', 9: 'i', 10: 'j', 11: 'k', 12: 'l', 13: 'm', 14: 'n', 15: 'o', 16: 'p', 17: 'q', 18: 'r', 19: 's', 20: 't', 21: 'u', 22: 'v', 23: 'w', 24: 'x', 25: 'y', 26: 'z', 0: '.'}\n"
          ]
        }
      ]
    },
    {
      "cell_type": "code",
      "source": [
        "# build the dataset\n",
        "\n",
        "def build_dataset(words, display = False):\n",
        "  block_size = 3 # Context length: how many characters do we take to predict the next one\n",
        "  X, Y = [], []\n",
        "\n",
        "  for w in words[:5]:\n",
        "      context = [0] * block_size\n",
        "      for ch in w + \".\":\n",
        "          ix = stoi[ch]\n",
        "          X.append(context)\n",
        "          Y.append(ix)\n",
        "          if display == True: print(''.join(itos[i] for i in context), '--->', itos[ix])\n",
        "          context = context[1:] + [ix] # Crop and append\n",
        "\n",
        "  X = torch.tensor(X)\n",
        "  Y = torch.tensor(Y)\n",
        "  print(X.shape(), Y.shape())\n",
        "  return X, Y\n",
        "\n",
        "build_dataset(words, display = True)"
      ],
      "metadata": {
        "id": "f9Eu3Rp6de7p",
        "colab": {
          "base_uri": "https://localhost:8080/",
          "height": 853
        },
        "outputId": "34f28d49-d4fa-4ec7-9c7a-215ec882f960"
      },
      "execution_count": 127,
      "outputs": [
        {
          "output_type": "stream",
          "name": "stdout",
          "text": [
            "... ---> e\n",
            "..e ---> m\n",
            ".em ---> m\n",
            "emm ---> a\n",
            "mma ---> .\n",
            "... ---> o\n",
            "..o ---> l\n",
            ".ol ---> i\n",
            "oli ---> v\n",
            "liv ---> i\n",
            "ivi ---> a\n",
            "via ---> .\n",
            "... ---> a\n",
            "..a ---> v\n",
            ".av ---> a\n",
            "ava ---> .\n",
            "... ---> i\n",
            "..i ---> s\n",
            ".is ---> a\n",
            "isa ---> b\n",
            "sab ---> e\n",
            "abe ---> l\n",
            "bel ---> l\n",
            "ell ---> a\n",
            "lla ---> .\n",
            "... ---> s\n",
            "..s ---> o\n",
            ".so ---> p\n",
            "sop ---> h\n",
            "oph ---> i\n",
            "phi ---> a\n",
            "hia ---> .\n"
          ]
        },
        {
          "output_type": "error",
          "ename": "TypeError",
          "evalue": "'torch.Size' object is not callable",
          "traceback": [
            "\u001b[0;31m---------------------------------------------------------------------------\u001b[0m",
            "\u001b[0;31mTypeError\u001b[0m                                 Traceback (most recent call last)",
            "\u001b[0;32m<ipython-input-127-a835a7bea789>\u001b[0m in \u001b[0;36m<cell line: 0>\u001b[0;34m()\u001b[0m\n\u001b[1;32m     19\u001b[0m   \u001b[0;32mreturn\u001b[0m \u001b[0mX\u001b[0m\u001b[0;34m,\u001b[0m \u001b[0mY\u001b[0m\u001b[0;34m\u001b[0m\u001b[0;34m\u001b[0m\u001b[0m\n\u001b[1;32m     20\u001b[0m \u001b[0;34m\u001b[0m\u001b[0m\n\u001b[0;32m---> 21\u001b[0;31m \u001b[0mbuild_dataset\u001b[0m\u001b[0;34m(\u001b[0m\u001b[0mwords\u001b[0m\u001b[0;34m,\u001b[0m \u001b[0mdisplay\u001b[0m \u001b[0;34m=\u001b[0m \u001b[0;32mTrue\u001b[0m\u001b[0;34m)\u001b[0m\u001b[0;34m\u001b[0m\u001b[0;34m\u001b[0m\u001b[0m\n\u001b[0m",
            "\u001b[0;32m<ipython-input-127-a835a7bea789>\u001b[0m in \u001b[0;36mbuild_dataset\u001b[0;34m(words, display)\u001b[0m\n\u001b[1;32m     16\u001b[0m   \u001b[0mX\u001b[0m \u001b[0;34m=\u001b[0m \u001b[0mtorch\u001b[0m\u001b[0;34m.\u001b[0m\u001b[0mtensor\u001b[0m\u001b[0;34m(\u001b[0m\u001b[0mX\u001b[0m\u001b[0;34m)\u001b[0m\u001b[0;34m\u001b[0m\u001b[0;34m\u001b[0m\u001b[0m\n\u001b[1;32m     17\u001b[0m   \u001b[0mY\u001b[0m \u001b[0;34m=\u001b[0m \u001b[0mtorch\u001b[0m\u001b[0;34m.\u001b[0m\u001b[0mtensor\u001b[0m\u001b[0;34m(\u001b[0m\u001b[0mY\u001b[0m\u001b[0;34m)\u001b[0m\u001b[0;34m\u001b[0m\u001b[0;34m\u001b[0m\u001b[0m\n\u001b[0;32m---> 18\u001b[0;31m   \u001b[0mprint\u001b[0m\u001b[0;34m(\u001b[0m\u001b[0mX\u001b[0m\u001b[0;34m.\u001b[0m\u001b[0mshape\u001b[0m\u001b[0;34m(\u001b[0m\u001b[0;34m)\u001b[0m\u001b[0;34m,\u001b[0m \u001b[0mY\u001b[0m\u001b[0;34m.\u001b[0m\u001b[0mshape\u001b[0m\u001b[0;34m(\u001b[0m\u001b[0;34m)\u001b[0m\u001b[0;34m)\u001b[0m\u001b[0;34m\u001b[0m\u001b[0;34m\u001b[0m\u001b[0m\n\u001b[0m\u001b[1;32m     19\u001b[0m   \u001b[0;32mreturn\u001b[0m \u001b[0mX\u001b[0m\u001b[0;34m,\u001b[0m \u001b[0mY\u001b[0m\u001b[0;34m\u001b[0m\u001b[0;34m\u001b[0m\u001b[0m\n\u001b[1;32m     20\u001b[0m \u001b[0;34m\u001b[0m\u001b[0m\n",
            "\u001b[0;31mTypeError\u001b[0m: 'torch.Size' object is not callable"
          ]
        }
      ]
    },
    {
      "cell_type": "code",
      "source": [
        "X.shape, X.dtype, Y.shape, Y.dtype # Dataset"
      ],
      "metadata": {
        "id": "M6zmyzcnp69E",
        "colab": {
          "base_uri": "https://localhost:8080/"
        },
        "outputId": "d2fd68cc-a947-465e-e00b-395e71815d0f"
      },
      "execution_count": 5,
      "outputs": [
        {
          "output_type": "execute_result",
          "data": {
            "text/plain": [
              "(torch.Size([32, 3]), torch.int64, torch.Size([32]), torch.int64)"
            ]
          },
          "metadata": {},
          "execution_count": 5
        }
      ]
    },
    {
      "cell_type": "code",
      "source": [
        "g = torch.Generator().manual_seed(2147483647)\n",
        "C = torch.randn((27, 2), generator=g)\n",
        "W1 = torch.randn((6, 100), generator=g)\n",
        "b1 = torch.randn(100, generator=g)\n",
        "W2 = torch.randn((100, 27), generator=g)\n",
        "b2 = torch.randn(27, generator=g)\n",
        "parameters = [C, W1, b1, W2, b2]"
      ],
      "metadata": {
        "id": "fzGOmu2xp5I8"
      },
      "execution_count": 6,
      "outputs": []
    },
    {
      "cell_type": "code",
      "source": [
        "sum(p.nelement() for p in parameters) # Numbers of parameters"
      ],
      "metadata": {
        "colab": {
          "base_uri": "https://localhost:8080/"
        },
        "id": "uBNHYzNlmcf7",
        "outputId": "fa567639-5cdf-47ab-e315-232dac655728"
      },
      "execution_count": 7,
      "outputs": [
        {
          "output_type": "execute_result",
          "data": {
            "text/plain": [
              "3481"
            ]
          },
          "metadata": {},
          "execution_count": 7
        }
      ]
    },
    {
      "cell_type": "code",
      "source": [
        "for p in parameters:\n",
        "    p.requires_grad = True"
      ],
      "metadata": {
        "id": "H18sUc7IuL6V"
      },
      "execution_count": 8,
      "outputs": []
    },
    {
      "cell_type": "code",
      "source": [
        "for _ in range(10):\n",
        "  # Forward pass\n",
        "  emb = C[X] #(32, 3, 2)\n",
        "  h = torch.tanh(emb.view(-1, 6) @ W1 + b1) # (32, 100)\n",
        "  logits = h @ W2 + b2 # h=(32,100) . W=(100,27)\n",
        "  counts = logits.exp()\n",
        "  prob = counts / counts.sum(1, keepdims=True)\n",
        "  loss = -prob[torch.arange(32), Y].log().mean()\n",
        "  print(loss.item())\n",
        "\n",
        "  # Backward pass\n",
        "  for p in parameters:\n",
        "      p.grad = None\n",
        "  loss.backward()\n",
        "\n",
        "  # Update\n",
        "  for p in parameters:\n",
        "      p.data += -0.1 * p.grad"
      ],
      "metadata": {
        "id": "DJdyxNsaqVa2",
        "colab": {
          "base_uri": "https://localhost:8080/"
        },
        "outputId": "3f02ece1-62ba-43bc-a0c9-9f94dc53cb49"
      },
      "execution_count": 9,
      "outputs": [
        {
          "output_type": "stream",
          "name": "stdout",
          "text": [
            "17.769710540771484\n",
            "13.656402587890625\n",
            "11.298768043518066\n",
            "9.452457427978516\n",
            "7.984262466430664\n",
            "6.891321182250977\n",
            "6.100014686584473\n",
            "5.4520368576049805\n",
            "4.8981523513793945\n",
            "4.414664268493652\n"
          ]
        }
      ]
    },
    {
      "cell_type": "markdown",
      "source": [
        "Note: we're overfitting the model here (too few examples for a large dataset will result poor in the actual data)"
      ],
      "metadata": {
        "id": "ZxSYsHd6z_Us"
      }
    },
    {
      "cell_type": "markdown",
      "source": [
        "## Adjust"
      ],
      "metadata": {
        "id": "t_TOHlUHzyt9"
      }
    },
    {
      "cell_type": "code",
      "source": [
        "# Rebuild the dataset (with full data)\n",
        "\n",
        "block_size = 3 # context length: how many characters do we take to predict the next one\n",
        "X, Y = [], []\n",
        "\n",
        "for w in words:\n",
        "    context = [0] * block_size\n",
        "    for ch in w + \".\":\n",
        "        ix = stoi[ch]\n",
        "        X.append(context)\n",
        "        Y.append(ix)\n",
        "        context = context[1:] + [ix]\n",
        "\n",
        "X = torch.tensor(X)\n",
        "Y = torch.tensor(Y)\n",
        "\n",
        "X.shape, X.dtype, Y.shape, Y.dtype # Dataset"
      ],
      "metadata": {
        "id": "ZS1xYEelz7kr",
        "outputId": "b2a14270-7942-48d2-8131-b9e506e28471",
        "colab": {
          "base_uri": "https://localhost:8080/"
        }
      },
      "execution_count": 53,
      "outputs": [
        {
          "output_type": "execute_result",
          "data": {
            "text/plain": [
              "(torch.Size([228146, 3]), torch.int64, torch.Size([228146]), torch.int64)"
            ]
          },
          "metadata": {},
          "execution_count": 53
        }
      ]
    },
    {
      "cell_type": "code",
      "source": [
        "# Setup parameters\n",
        "g = torch.Generator().manual_seed(2147483647)\n",
        "C = torch.randn((27, 2), generator=g)\n",
        "W1 = torch.randn((6, 100), generator=g)\n",
        "b1 = torch.randn(100, generator=g)\n",
        "W2 = torch.randn((100, 27), generator=g)\n",
        "b2 = torch.randn(27, generator=g)\n",
        "parameters = [C, W1, b1, W2, b2]\n",
        "\n",
        "for p in parameters:\n",
        "    p.requires_grad = True"
      ],
      "metadata": {
        "id": "YRVupgBz0Yh3"
      },
      "execution_count": 54,
      "outputs": []
    },
    {
      "cell_type": "code",
      "source": [
        "# Deciding leanring rate\n",
        "lre = torch.linspace(-3, 0, 1000)\n",
        "lrs = 10**lre\n",
        "\n",
        "lri = []\n",
        "lossi = []\n",
        "\n",
        "for i in range(1000):\n",
        "  # Minibatch\n",
        "  ix = torch.randint(0, X.shape[0], (32,))\n",
        "\n",
        "  # Forward pass\n",
        "  emb = C[X[ix]] #(32, 3, 2)\n",
        "  h = torch.tanh(emb.view(-1, 6) @ W1 + b1) # (32, 100)\n",
        "  logits = h @ W2 + b2 # h=(32,100) . W=(100,27)\n",
        "  loss = F.cross_entropy(logits, Y[ix])\n",
        "\n",
        "  # Backward pass\n",
        "  for p in parameters:\n",
        "      p.grad = None\n",
        "  loss.backward()\n",
        "\n",
        "  # Update\n",
        "  lr = lrs[i]\n",
        "  for p in parameters:\n",
        "      p.data += -lr * p.grad\n",
        "\n",
        "  # Track the stats\n",
        "  lri.append(lr)\n",
        "  lossi.append(loss.item())\n",
        "\n",
        "plt.plot(lri, lossi)"
      ],
      "metadata": {
        "id": "TaI_pVjQSBUq",
        "outputId": "6d1bd8ea-8082-4e91-bf46-dcd0a229b02e",
        "colab": {
          "base_uri": "https://localhost:8080/",
          "height": 447
        }
      },
      "execution_count": 46,
      "outputs": [
        {
          "output_type": "execute_result",
          "data": {
            "text/plain": [
              "[<matplotlib.lines.Line2D at 0x7c3437b68490>]"
            ]
          },
          "metadata": {},
          "execution_count": 46
        },
        {
          "output_type": "display_data",
          "data": {
            "text/plain": [
              "<Figure size 640x480 with 1 Axes>"
            ],
            "image/png": "[encoded data removed]"
          },
          "metadata": {}
        }
      ]
    },
    {
      "cell_type": "markdown",
      "source": [
        "It looks like 0.1 is a good learning rate to initialize."
      ],
      "metadata": {
        "id": "_GBJx_aAWAMp"
      }
    },
    {
      "cell_type": "markdown",
      "source": [
        "## Train"
      ],
      "metadata": {
        "id": "le7I7xZ3WjwR"
      }
    },
    {
      "cell_type": "code",
      "source": [
        "# Reset parameters\n",
        "g = torch.Generator().manual_seed(2147483647)\n",
        "C = torch.randn((27, 2), generator=g)\n",
        "W1 = torch.randn((6, 100), generator=g)\n",
        "b1 = torch.randn(100, generator=g)\n",
        "W2 = torch.randn((100, 27), generator=g)\n",
        "b2 = torch.randn(27, generator=g)\n",
        "parameters = [C, W1, b1, W2, b2]\n",
        "\n",
        "for p in parameters:\n",
        "    p.requires_grad = True"
      ],
      "metadata": {
        "id": "sOr8L9vBYEyv"
      },
      "execution_count": 118,
      "outputs": []
    },
    {
      "cell_type": "code",
      "source": [
        "lr = 0.1\n",
        "losses = []\n",
        "lrs = []\n",
        "\n",
        "for _ in range(5):\n",
        "  lrs.append(lr)\n",
        "  for i in range(100):\n",
        "    # Minibatch\n",
        "    ix = torch.randint(0, X.shape[0], (32,), generator = g)\n",
        "\n",
        "    # Forward pass\n",
        "    emb = C[X[ix]] #(32, 3, 2)\n",
        "    h = torch.tanh(emb.view(-1, 6) @ W1 + b1) # (32, 100)\n",
        "    logits = h @ W2 + b2 # h=(32,100) . W=(100,27)\n",
        "    loss = F.cross_entropy(logits, Y[ix])\n",
        "\n",
        "    # Backward pass\n",
        "    for p in parameters:\n",
        "        p.grad = None\n",
        "    loss.backward()\n",
        "\n",
        "    # Update\n",
        "    for p in parameters:\n",
        "        p.data += -lr * p.grad\n",
        "\n",
        "    # Track\n",
        "    losses.append(loss.item())\n",
        "\n",
        "  lr = lr * 0.75\n",
        "  print(loss.item())"
      ],
      "metadata": {
        "id": "y51-O2rOV-2B",
        "outputId": "03e03999-9ebc-4104-c9fa-d68a2a424b58",
        "colab": {
          "base_uri": "https://localhost:8080/"
        }
      },
      "execution_count": 119,
      "outputs": [
        {
          "output_type": "stream",
          "name": "stdout",
          "text": [
            "3.682828426361084\n",
            "2.7850520610809326\n",
            "2.9104599952697754\n",
            "2.733823299407959\n",
            "2.856456995010376\n"
          ]
        }
      ]
    },
    {
      "cell_type": "code",
      "source": [
        "plt.plot(lrs) # Learning rate decay (100 update for each learing rate below.)\n",
        "lrs"
      ],
      "metadata": {
        "id": "aNW71zK1YIQl",
        "outputId": "c9276e06-f874-4cd7-cddd-27b204d20db3",
        "colab": {
          "base_uri": "https://localhost:8080/",
          "height": 517
        }
      },
      "execution_count": 120,
      "outputs": [
        {
          "output_type": "execute_result",
          "data": {
            "text/plain": [
              "[0.1,\n",
              " 0.07500000000000001,\n",
              " 0.05625000000000001,\n",
              " 0.0421875,\n",
              " 0.031640625000000006]"
            ]
          },
          "metadata": {},
          "execution_count": 120
        },
        {
          "output_type": "display_data",
          "data": {
            "text/plain": [
              "<Figure size 640x480 with 1 Axes>"
            ],
            "image/png": "[encoded data removed]"
          },
          "metadata": {}
        }
      ]
    },
    {
      "cell_type": "code",
      "source": [
        "plt.plot(losses)"
      ],
      "metadata": {
        "id": "REBfFVfzYr5V",
        "outputId": "672681e5-5d51-43f8-f4b9-04bf2eddbed2",
        "colab": {
          "base_uri": "https://localhost:8080/",
          "height": 447
        }
      },
      "execution_count": 121,
      "outputs": [
        {
          "output_type": "execute_result",
          "data": {
            "text/plain": [
              "[<matplotlib.lines.Line2D at 0x7c3431758c10>]"
            ]
          },
          "metadata": {},
          "execution_count": 121
        },
        {
          "output_type": "display_data",
          "data": {
            "text/plain": [
              "<Figure size 640x480 with 1 Axes>"
            ],
            "image/png": "[encoded data removed]"
          },
          "metadata": {}
        }
      ]
    },
    {
      "cell_type": "markdown",
      "source": [
        "### Train-Test-Validate"
      ],
      "metadata": {
        "id": "wfOWlRGwbnKy"
      }
    },
    {
      "cell_type": "code",
      "source": [
        "# Train, test, validation splits = (%80, %10, %10)\n",
        "\n"
      ],
      "metadata": {
        "id": "OAarFYT9bmsL"
      },
      "execution_count": null,
      "outputs": []
    }
  ]
}