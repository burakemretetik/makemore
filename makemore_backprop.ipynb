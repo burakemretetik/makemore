{
  "cells": [
    {
      "cell_type": "markdown",
      "metadata": {
        "id": "view-in-github",
        "colab_type": "text"
      },
      "source": [
        "<a href=\"https://colab.research.google.com/github/burakemretetik/makemore/blob/main/makemore_backprop.ipynb\" target=\"_parent\"><img src=\"https://colab.research.google.com/assets/colab-badge.svg\" alt=\"Open In Colab\"/></a>"
      ]
    },
    {
      "cell_type": "markdown",
      "metadata": {
        "id": "rToK0Tku8PPn"
      },
      "source": [
        "# Makemore: Backprop"
      ]
    },
    {
      "cell_type": "markdown",
      "source": [
        "## Setup"
      ],
      "metadata": {
        "id": "s8yE9tDuBVkU"
      }
    },
    {
      "cell_type": "code",
      "execution_count": 1,
      "metadata": {
        "id": "ChBbac4y8PPq"
      },
      "outputs": [],
      "source": [
        "import torch\n",
        "import torch.nn.functional as F\n",
        "import matplotlib.pyplot as plt\n",
        "import graphviz\n",
        "\n",
        "%matplotlib inline"
      ]
    },
    {
      "cell_type": "code",
      "source": [
        "# Download the names.txt file from github\n",
        "!wget https://raw.githubusercontent.com/karpathy/makemore/master/names.txt"
      ],
      "metadata": {
        "id": "x6GhEWW18aCS",
        "colab": {
          "base_uri": "https://localhost:8080/"
        },
        "outputId": "29593235-3460-4826-ce35-b0d4c97bd943"
      },
      "execution_count": 2,
      "outputs": [
        {
          "output_type": "stream",
          "name": "stdout",
          "text": [
            "--2025-02-12 12:17:32--  https://raw.githubusercontent.com/karpathy/makemore/master/names.txt\n",
            "Resolving raw.githubusercontent.com (raw.githubusercontent.com)... 185.199.111.133, 185.199.110.133, 185.199.108.133, ...\n",
            "Connecting to raw.githubusercontent.com (raw.githubusercontent.com)|185.199.111.133|:443... connected.\n",
            "HTTP request sent, awaiting response... 200 OK\n",
            "Length: 228145 (223K) [text/plain]\n",
            "Saving to: ‘names.txt.3’\n",
            "\n",
            "names.txt.3         100%[===================>] 222.80K  --.-KB/s    in 0.01s   \n",
            "\n",
            "2025-02-12 12:17:32 (15.0 MB/s) - ‘names.txt.3’ saved [228145/228145]\n",
            "\n"
          ]
        }
      ]
    },
    {
      "cell_type": "code",
      "execution_count": 22,
      "metadata": {
        "id": "klmu3ZG08PPr",
        "colab": {
          "base_uri": "https://localhost:8080/"
        },
        "outputId": "bfa3db73-1298-441f-8aee-db5461e0a81f"
      },
      "outputs": [
        {
          "output_type": "stream",
          "name": "stdout",
          "text": [
            "32033\n",
            "15\n",
            "['emma', 'olivia', 'ava', 'isabella', 'sophia', 'charlotte', 'mia', 'amelia']\n"
          ]
        }
      ],
      "source": [
        "# read in all the words\n",
        "words = open('names.txt', 'r').read().splitlines()\n",
        "print(len(words))\n",
        "print(max(len(w) for w in words))\n",
        "print(words[:8])"
      ]
    },
    {
      "cell_type": "code",
      "execution_count": 23,
      "metadata": {
        "id": "BCQomLE_8PPs",
        "colab": {
          "base_uri": "https://localhost:8080/"
        },
        "outputId": "51498968-5fb7-46d5-a773-e306e4cda337"
      },
      "outputs": [
        {
          "output_type": "stream",
          "name": "stdout",
          "text": [
            "{1: 'a', 2: 'b', 3: 'c', 4: 'd', 5: 'e', 6: 'f', 7: 'g', 8: 'h', 9: 'i', 10: 'j', 11: 'k', 12: 'l', 13: 'm', 14: 'n', 15: 'o', 16: 'p', 17: 'q', 18: 'r', 19: 's', 20: 't', 21: 'u', 22: 'v', 23: 'w', 24: 'x', 25: 'y', 26: 'z', 0: '.'}\n",
            "27\n"
          ]
        }
      ],
      "source": [
        "# build the vocabulary of characters and mappings to/from integers\n",
        "chars = sorted(list(set(''.join(words))))\n",
        "stoi = {s:i+1 for i,s in enumerate(chars)}\n",
        "stoi['.'] = 0\n",
        "itos = {i:s for s,i in stoi.items()}\n",
        "vocab_size = len(itos)\n",
        "print(itos)\n",
        "print(vocab_size)"
      ]
    },
    {
      "cell_type": "code",
      "execution_count": 24,
      "metadata": {
        "id": "V_zt2QHr8PPs",
        "colab": {
          "base_uri": "https://localhost:8080/"
        },
        "outputId": "7faf468e-1e86-4741-8887-51d8daed82c9"
      },
      "outputs": [
        {
          "output_type": "stream",
          "name": "stdout",
          "text": [
            "torch.Size([182625, 3]) torch.Size([182625])\n",
            "torch.Size([22655, 3]) torch.Size([22655])\n",
            "torch.Size([22866, 3]) torch.Size([22866])\n"
          ]
        }
      ],
      "source": [
        "# build the dataset\n",
        "block_size = 3 # context length: how many characters do we take to predict the next one?\n",
        "\n",
        "def build_dataset(words):\n",
        "  X, Y = [], []\n",
        "\n",
        "  for w in words:\n",
        "    context = [0] * block_size\n",
        "    for ch in w + '.':\n",
        "      ix = stoi[ch]\n",
        "      X.append(context)\n",
        "      Y.append(ix)\n",
        "      context = context[1:] + [ix] # crop and append\n",
        "\n",
        "  X = torch.tensor(X)\n",
        "  Y = torch.tensor(Y)\n",
        "  print(X.shape, Y.shape)\n",
        "  return X, Y\n",
        "\n",
        "import random\n",
        "random.seed(42)\n",
        "random.shuffle(words)\n",
        "n1 = int(0.8*len(words))\n",
        "n2 = int(0.9*len(words))\n",
        "\n",
        "Xtr,  Ytr  = build_dataset(words[:n1])     # 80%\n",
        "Xdev, Ydev = build_dataset(words[n1:n2])   # 10%\n",
        "Xte,  Yte  = build_dataset(words[n2:])     # 10%"
      ]
    },
    {
      "cell_type": "markdown",
      "source": [
        "## Backprop"
      ],
      "metadata": {
        "id": "Ehhp9FfZBbWR"
      }
    },
    {
      "cell_type": "code",
      "execution_count": 25,
      "metadata": {
        "id": "MJPU8HT08PPu"
      },
      "outputs": [],
      "source": [
        "# utility function we will use later when comparing manual gradients to PyTorch gradients\n",
        "def cmp(s, dt, t):\n",
        "  ex = torch.all(dt == t.grad).item()\n",
        "  app = torch.allclose(dt, t.grad)\n",
        "  maxdiff = (dt - t.grad).abs().max().item()\n",
        "  print(f'{s:15s} | exact: {str(ex):5s} | approximate: {str(app):5s} | maxdiff: {maxdiff}')"
      ]
    },
    {
      "cell_type": "code",
      "execution_count": 26,
      "metadata": {
        "id": "ZlFLjQyT8PPu",
        "colab": {
          "base_uri": "https://localhost:8080/"
        },
        "outputId": "fd655a95-4b19-4e23-a0be-82da55a5731f"
      },
      "outputs": [
        {
          "output_type": "stream",
          "name": "stdout",
          "text": [
            "4137\n"
          ]
        }
      ],
      "source": [
        "n_embd = 10 # the dimensionality of the character embedding vectors\n",
        "n_hidden = 64 # the number of neurons in the hidden layer of the MLP\n",
        "\n",
        "g = torch.Generator().manual_seed(2147483647) # for reproducibility\n",
        "C  = torch.randn((vocab_size, n_embd),            generator=g)\n",
        "# Layer 1\n",
        "W1 = torch.randn((n_embd * block_size, n_hidden), generator=g) * (5/3)/((n_embd * block_size)**0.5)\n",
        "b1 = torch.randn(n_hidden,                        generator=g) * 0.1 # using b1 just for fun, it's useless because of BN\n",
        "# Layer 2\n",
        "W2 = torch.randn((n_hidden, vocab_size),          generator=g) * 0.1\n",
        "b2 = torch.randn(vocab_size,                      generator=g) * 0.1\n",
        "# BatchNorm parameters\n",
        "bngain = torch.randn((1, n_hidden))*0.1 + 1.0\n",
        "bnbias = torch.randn((1, n_hidden))*0.1\n",
        "\n",
        "# Note: I am initializating many of these parameters in non-standard ways\n",
        "# because sometimes initializating with e.g. all zeros could mask an incorrect\n",
        "# implementation of the backward pass.\n",
        "\n",
        "parameters = [C, W1, b1, W2, b2, bngain, bnbias]\n",
        "print(sum(p.nelement() for p in parameters)) # number of parameters in total\n",
        "for p in parameters:\n",
        "  p.requires_grad = True"
      ]
    },
    {
      "cell_type": "code",
      "execution_count": 27,
      "metadata": {
        "id": "QY-y96Y48PPv"
      },
      "outputs": [],
      "source": [
        "batch_size = 32\n",
        "n = batch_size # a shorter variable also, for convenience\n",
        "# construct a minibatch\n",
        "ix = torch.randint(0, Xtr.shape[0], (batch_size,), generator=g)\n",
        "Xb, Yb = Xtr[ix], Ytr[ix] # batch X,Y"
      ]
    },
    {
      "cell_type": "code",
      "execution_count": 28,
      "metadata": {
        "id": "8ofj1s6d8PPv",
        "colab": {
          "base_uri": "https://localhost:8080/"
        },
        "outputId": "7dc91713-ea21-4c77-be83-2d255336a311"
      },
      "outputs": [
        {
          "output_type": "execute_result",
          "data": {
            "text/plain": [
              "tensor(3.3472, grad_fn=<NegBackward0>)"
            ]
          },
          "metadata": {},
          "execution_count": 28
        }
      ],
      "source": [
        "# forward pass, \"chunkated\" into smaller steps that are possible to backward one at a time\n",
        "\n",
        "emb = C[Xb] # embed the characters into vectors\n",
        "embcat = emb.view(emb.shape[0], -1) # concatenate the vectors\n",
        "# Linear layer 1\n",
        "hprebn = embcat @ W1 + b1 # hidden layer pre-activation\n",
        "# BatchNorm layer\n",
        "bnmeani = 1/n*hprebn.sum(0, keepdim=True)\n",
        "bndiff = hprebn - bnmeani\n",
        "bndiff2 = bndiff**2\n",
        "bnvar = 1/(n-1)*(bndiff2).sum(0, keepdim=True) # note: Bessel's correction (dividing by n-1, not n)\n",
        "bnvar_inv = (bnvar + 1e-5)**-0.5\n",
        "bnraw = bndiff * bnvar_inv\n",
        "hpreact = bngain * bnraw + bnbias\n",
        "# Non-linearity\n",
        "h = torch.tanh(hpreact) # hidden layer\n",
        "# Linear layer 2\n",
        "logits = h @ W2 + b2 # output layer\n",
        "# cross entropy loss (same as F.cross_entropy(logits, Yb))\n",
        "logit_maxes = logits.max(1, keepdim=True).values\n",
        "norm_logits = logits - logit_maxes # subtract max for numerical stability\n",
        "counts = norm_logits.exp()\n",
        "counts_sum = counts.sum(1, keepdims=True)\n",
        "counts_sum_inv = counts_sum**-1 # if I use (1.0 / counts_sum) instead then I can't get backprop to be bit exact...\n",
        "probs = counts * counts_sum_inv\n",
        "logprobs = probs.log()\n",
        "loss = -logprobs[range(n), Yb].mean()\n",
        "\n",
        "# PyTorch backward pass\n",
        "for p in parameters:\n",
        "  p.grad = None\n",
        "for t in [logprobs, probs, counts, counts_sum, counts_sum_inv, # afaik there is no cleaner way\n",
        "          norm_logits, logit_maxes, logits, h, hpreact, bnraw,\n",
        "         bnvar_inv, bnvar, bndiff2, bndiff, hprebn, bnmeani,\n",
        "         embcat, emb]:\n",
        "  t.retain_grad()\n",
        "loss.backward()\n",
        "loss"
      ]
    },
    {
      "cell_type": "markdown",
      "source": [
        "## Explore"
      ],
      "metadata": {
        "id": "ARIP6DQMb9k8"
      }
    },
    {
      "cell_type": "code",
      "source": [
        "Xb[0] # Single input, representing 3 letter sequance"
      ],
      "metadata": {
        "colab": {
          "base_uri": "https://localhost:8080/"
        },
        "id": "YGlinXkvc4gF",
        "outputId": "11ad27ef-81cb-4332-c08f-8136e19ec5c0"
      },
      "execution_count": 10,
      "outputs": [
        {
          "output_type": "execute_result",
          "data": {
            "text/plain": [
              "tensor([1, 1, 4])"
            ]
          },
          "metadata": {},
          "execution_count": 10
        }
      ]
    },
    {
      "cell_type": "code",
      "source": [
        "C[Xb[0]][0] # Embedding for the first letter of the first sequance (10 dimentions for a letter.)"
      ],
      "metadata": {
        "colab": {
          "base_uri": "https://localhost:8080/"
        },
        "id": "usv9LDREcAP8",
        "outputId": "197e3102-c2ca-4f24-eddd-354990c7afff"
      },
      "execution_count": 11,
      "outputs": [
        {
          "output_type": "execute_result",
          "data": {
            "text/plain": [
              "tensor([-0.4713,  0.7868, -0.3284, -0.4330,  1.3729,  2.9334,  1.5618, -1.6261,\n",
              "         0.6772, -0.8404], grad_fn=<SelectBackward0>)"
            ]
          },
          "metadata": {},
          "execution_count": 11
        }
      ]
    },
    {
      "cell_type": "code",
      "source": [
        "C[Xb[0]] # Embedding for the first 3 letter sequance (3 letter x 10 dimentions = 30 float numbers)"
      ],
      "metadata": {
        "colab": {
          "base_uri": "https://localhost:8080/"
        },
        "id": "J1m02IpcdL60",
        "outputId": "17fafd2e-5f1d-4df2-e28c-c2c1355fe932"
      },
      "execution_count": 12,
      "outputs": [
        {
          "output_type": "execute_result",
          "data": {
            "text/plain": [
              "tensor([[-0.4713,  0.7868, -0.3284, -0.4330,  1.3729,  2.9334,  1.5618, -1.6261,\n",
              "          0.6772, -0.8404],\n",
              "        [-0.4713,  0.7868, -0.3284, -0.4330,  1.3729,  2.9334,  1.5618, -1.6261,\n",
              "          0.6772, -0.8404],\n",
              "        [-0.9648, -0.2321, -0.3476,  0.3324, -1.3263,  1.1224,  0.5964,  0.4585,\n",
              "          0.0540, -1.7400]], grad_fn=<IndexBackward0>)"
            ]
          },
          "metadata": {},
          "execution_count": 12
        }
      ]
    },
    {
      "cell_type": "code",
      "source": [
        "print(f\"Len of embedding vector: {len(C[Xb])}\")\n",
        "print(f\"Len of the letter sequance: {len(C[Xb[0]])}\")\n",
        "print(f\"Len of the dimentions for each letter.: {len(C[Xb[0][0]])}\")\n",
        "print(\"---------------------------\")\n",
        "print(f\"Number of floats flowing in the neural network: {len(C[Xb]) * len(C[Xb[0]]) * len(C[Xb[0][0]])}\")\n",
        "print(f\"Shape of the input tensor: {C[Xb].shape}\")\n",
        "print(f\"Concatenated embeddings 'embcat' is our input tensor with shape:: {embcat.shape}\")\n",
        "\n",
        "# embcat: 32 x sequances that has total of 30 floats for embeddings of 3 letters (10 for each)."
      ],
      "metadata": {
        "colab": {
          "base_uri": "https://localhost:8080/"
        },
        "id": "2hX6m6BUewxx",
        "outputId": "fec287ee-fc52-4743-cc6c-5d0f376d86a9"
      },
      "execution_count": 13,
      "outputs": [
        {
          "output_type": "stream",
          "name": "stdout",
          "text": [
            "Len of embedding vector: 32\n",
            "Len of the letter sequance: 3\n",
            "Len of the dimentions for each letter.: 10\n",
            "---------------------------\n",
            "Number of floats flowing in the neural network: 960\n",
            "Shape of the input tensor: torch.Size([32, 3, 10])\n",
            "Concatenated embeddings 'embcat' is our input tensor with shape:: torch.Size([32, 30])\n"
          ]
        }
      ]
    },
    {
      "cell_type": "code",
      "source": [
        "def visualize_nn():\n",
        "    dot = graphviz.Digraph(format='png')\n",
        "\n",
        "    # Input\n",
        "    dot.node('Xb', 'Input (Xb)', shape='ellipse', style='filled', fillcolor='lightblue')\n",
        "\n",
        "    # Embedding Layer\n",
        "    dot.node('C', 'Embedding (C)', shape='box', style='filled', fillcolor='lightgray')\n",
        "    dot.edge('Xb', 'C')\n",
        "\n",
        "    dot.node('emb', 'Embedded Vectors', shape='ellipse', style='filled', fillcolor='lightblue')\n",
        "    dot.edge('C', 'emb')\n",
        "\n",
        "    # Concatenation\n",
        "    dot.node('embcat', 'Concatenation (view)', shape='box', style='filled', fillcolor='lightgray')\n",
        "    dot.edge('emb', 'embcat')\n",
        "\n",
        "    # Linear Layer 1\n",
        "    dot.node('W1', 'Weights (W1)', shape='parallelogram', style='filled', fillcolor='lightcoral')\n",
        "    dot.node('b1', 'Bias (b1)', shape='parallelogram', style='filled', fillcolor='lightcoral')\n",
        "    dot.node('hprebn', 'Hidden Pre-BN', shape='ellipse', style='filled', fillcolor='lightblue')\n",
        "    dot.edge('embcat', 'hprebn')\n",
        "    dot.edge('W1', 'hprebn')\n",
        "    dot.edge('b1', 'hprebn')\n",
        "\n",
        "    # BatchNorm\n",
        "    dot.node('bnmeani', 'Mean', shape='box', style='filled', fillcolor='lightgray')\n",
        "    dot.node('bnvar', 'Variance', shape='box', style='filled', fillcolor='lightgray')\n",
        "    dot.node('bnraw', 'Normalized', shape='ellipse', style='filled', fillcolor='lightblue')\n",
        "    dot.edge('hprebn', 'bnmeani')\n",
        "    dot.edge('hprebn', 'bnvar')\n",
        "    dot.edge('bnmeani', 'bnraw')\n",
        "    dot.edge('bnvar', 'bnraw')\n",
        "\n",
        "    # BatchNorm Scaling\n",
        "    dot.node('bngain', 'Scale (bngain)', shape='parallelogram', style='filled', fillcolor='lightcoral')\n",
        "    dot.node('bnbias', 'Shift (bnbias)', shape='parallelogram', style='filled', fillcolor='lightcoral')\n",
        "    dot.node('hpreact', 'Pre-Activation', shape='ellipse', style='filled', fillcolor='lightblue')\n",
        "    dot.edge('bnraw', 'hpreact')\n",
        "    dot.edge('bngain', 'hpreact')\n",
        "    dot.edge('bnbias', 'hpreact')\n",
        "\n",
        "    # Activation (tanh)\n",
        "    dot.node('h', 'Hidden (tanh)', shape='ellipse', style='filled', fillcolor='lightblue')\n",
        "    dot.edge('hpreact', 'h')\n",
        "\n",
        "    # Linear Layer 2\n",
        "    dot.node('W2', 'Weights (W2)', shape='parallelogram', style='filled', fillcolor='lightcoral')\n",
        "    dot.node('b2', 'Bias (b2)', shape='parallelogram', style='filled', fillcolor='lightcoral')\n",
        "    dot.node('logits', 'Logits', shape='ellipse', style='filled', fillcolor='lightblue')\n",
        "    dot.edge('h', 'logits')\n",
        "    dot.edge('W2', 'logits')\n",
        "    dot.edge('b2', 'logits')\n",
        "\n",
        "    # Softmax & Cross-Entropy\n",
        "    dot.node('softmax', 'Softmax', shape='box', style='filled', fillcolor='lightgray')\n",
        "    dot.node('loss', 'Cross-Entropy Loss', shape='ellipse', style='filled', fillcolor='coral')\n",
        "    dot.edge('logits', 'softmax')\n",
        "    dot.edge('softmax', 'loss')\n",
        "\n",
        "    return dot\n",
        "\n",
        "# Display the graph in Colab\n",
        "graph = visualize_nn()\n",
        "graph"
      ],
      "metadata": {
        "colab": {
          "base_uri": "https://localhost:8080/",
          "height": 1000
        },
        "id": "4AA3atIinark",
        "outputId": "1fe8895d-4cec-4839-b3c4-60fdd5cd4d46"
      },
      "execution_count": 14,
      "outputs": [
        {
          "output_type": "execute_result",
          "data": {
            "image/svg+xml": "<?xml version=\"1.0\" encoding=\"UTF-8\" standalone=\"no\"?>\n<!DOCTYPE svg PUBLIC \"-//W3C//DTD SVG 1.1//EN\"\n \"http://www.w3.org/Graphics/SVG/1.1/DTD/svg11.dtd\">\n<!-- Generated by graphviz version 2.43.0 (0)\n -->\n<!-- Title: %3 Pages: 1 -->\n<svg width=\"823pt\" height=\"836pt\"\n viewBox=\"0.00 0.00 823.19 836.00\" xmlns=\"http://www.w3.org/2000/svg\" xmlns:xlink=\"http://www.w3.org/1999/xlink\">\n<g id=\"graph0\" class=\"graph\" transform=\"scale(1 1) rotate(0) translate(4 832)\">\n<title>%3</title>\n<polygon fill=\"white\" stroke=\"transparent\" points=\"-4,4 -4,-832 819.19,-832 819.19,4 -4,4\"/>\n<!-- Xb -->\n<g id=\"node1\" class=\"node\">\n<title>Xb</title>\n<ellipse fill=\"lightblue\" stroke=\"black\" cx=\"77.34\" cy=\"-810\" rx=\"48.19\" ry=\"18\"/>\n<text text-anchor=\"middle\" x=\"77.34\" y=\"-806.3\" font-family=\"Times,serif\" font-size=\"14.00\">Input (Xb)</text>\n</g>\n<!-- C -->\n<g id=\"node2\" class=\"node\">\n<title>C</title>\n<polygon fill=\"lightgray\" stroke=\"black\" points=\"127.84,-756 26.84,-756 26.84,-720 127.84,-720 127.84,-756\"/>\n<text text-anchor=\"middle\" x=\"77.34\" y=\"-734.3\" font-family=\"Times,serif\" font-size=\"14.00\">Embedding (C)</text>\n</g>\n<!-- Xb&#45;&gt;C -->\n<g id=\"edge1\" class=\"edge\">\n<title>Xb&#45;&gt;C</title>\n<path fill=\"none\" stroke=\"black\" d=\"M77.34,-791.7C77.34,-783.98 77.34,-774.71 77.34,-766.11\"/>\n<polygon fill=\"black\" stroke=\"black\" points=\"80.84,-766.1 77.34,-756.1 73.84,-766.1 80.84,-766.1\"/>\n</g>\n<!-- emb -->\n<g id=\"node3\" class=\"node\">\n<title>emb</title>\n<ellipse fill=\"lightblue\" stroke=\"black\" cx=\"77.34\" cy=\"-666\" rx=\"77.19\" ry=\"18\"/>\n<text text-anchor=\"middle\" x=\"77.34\" y=\"-662.3\" font-family=\"Times,serif\" font-size=\"14.00\">Embedded Vectors</text>\n</g>\n<!-- C&#45;&gt;emb -->\n<g id=\"edge2\" class=\"edge\">\n<title>C&#45;&gt;emb</title>\n<path fill=\"none\" stroke=\"black\" d=\"M77.34,-719.7C77.34,-711.98 77.34,-702.71 77.34,-694.11\"/>\n<polygon fill=\"black\" stroke=\"black\" points=\"80.84,-694.1 77.34,-684.1 73.84,-694.1 80.84,-694.1\"/>\n</g>\n<!-- embcat -->\n<g id=\"node4\" class=\"node\">\n<title>embcat</title>\n<polygon fill=\"lightgray\" stroke=\"black\" points=\"144.34,-612 10.34,-612 10.34,-576 144.34,-576 144.34,-612\"/>\n<text text-anchor=\"middle\" x=\"77.34\" y=\"-590.3\" font-family=\"Times,serif\" font-size=\"14.00\">Concatenation (view)</text>\n</g>\n<!-- emb&#45;&gt;embcat -->\n<g id=\"edge3\" class=\"edge\">\n<title>emb&#45;&gt;embcat</title>\n<path fill=\"none\" stroke=\"black\" d=\"M77.34,-647.7C77.34,-639.98 77.34,-630.71 77.34,-622.11\"/>\n<polygon fill=\"black\" stroke=\"black\" points=\"80.84,-622.1 77.34,-612.1 73.84,-622.1 80.84,-622.1\"/>\n</g>\n<!-- hprebn -->\n<g id=\"node7\" class=\"node\">\n<title>hprebn</title>\n<ellipse fill=\"lightblue\" stroke=\"black\" cx=\"252.34\" cy=\"-522\" rx=\"65.79\" ry=\"18\"/>\n<text text-anchor=\"middle\" x=\"252.34\" y=\"-518.3\" font-family=\"Times,serif\" font-size=\"14.00\">Hidden Pre&#45;BN</text>\n</g>\n<!-- embcat&#45;&gt;hprebn -->\n<g id=\"edge4\" class=\"edge\">\n<title>embcat&#45;&gt;hprebn</title>\n<path fill=\"none\" stroke=\"black\" d=\"M120.15,-575.88C146.56,-565.31 180.39,-551.78 207.21,-541.05\"/>\n<polygon fill=\"black\" stroke=\"black\" points=\"208.77,-544.2 216.75,-537.24 206.17,-537.7 208.77,-544.2\"/>\n</g>\n<!-- W1 -->\n<g id=\"node5\" class=\"node\">\n<title>W1</title>\n<polygon fill=\"lightcoral\" stroke=\"black\" points=\"342,-612 199.38,-612 162.69,-576 305.31,-576 342,-612\"/>\n<text text-anchor=\"middle\" x=\"252.34\" y=\"-590.3\" font-family=\"Times,serif\" font-size=\"14.00\">Weights (W1)</text>\n</g>\n<!-- W1&#45;&gt;hprebn -->\n<g id=\"edge5\" class=\"edge\">\n<title>W1&#45;&gt;hprebn</title>\n<path fill=\"none\" stroke=\"black\" d=\"M252.34,-575.7C252.34,-567.98 252.34,-558.71 252.34,-550.11\"/>\n<polygon fill=\"black\" stroke=\"black\" points=\"255.84,-550.1 252.34,-540.1 248.84,-550.1 255.84,-550.1\"/>\n</g>\n<!-- b1 -->\n<g id=\"node6\" class=\"node\">\n<title>b1</title>\n<polygon fill=\"lightcoral\" stroke=\"black\" points=\"487.04,-612 385.71,-612 359.65,-576 460.97,-576 487.04,-612\"/>\n<text text-anchor=\"middle\" x=\"423.34\" y=\"-590.3\" font-family=\"Times,serif\" font-size=\"14.00\">Bias (b1)</text>\n</g>\n<!-- b1&#45;&gt;hprebn -->\n<g id=\"edge6\" class=\"edge\">\n<title>b1&#45;&gt;hprebn</title>\n<path fill=\"none\" stroke=\"black\" d=\"M381.51,-575.88C355.8,-565.35 322.88,-551.88 296.71,-541.16\"/>\n<polygon fill=\"black\" stroke=\"black\" points=\"297.98,-537.9 287.4,-537.35 295.33,-544.38 297.98,-537.9\"/>\n</g>\n<!-- bnmeani -->\n<g id=\"node8\" class=\"node\">\n<title>bnmeani</title>\n<polygon fill=\"lightgray\" stroke=\"black\" points=\"241.34,-468 187.34,-468 187.34,-432 241.34,-432 241.34,-468\"/>\n<text text-anchor=\"middle\" x=\"214.34\" y=\"-446.3\" font-family=\"Times,serif\" font-size=\"14.00\">Mean</text>\n</g>\n<!-- hprebn&#45;&gt;bnmeani -->\n<g id=\"edge7\" class=\"edge\">\n<title>hprebn&#45;&gt;bnmeani</title>\n<path fill=\"none\" stroke=\"black\" d=\"M243.14,-504.05C238.78,-496.01 233.45,-486.2 228.58,-477.23\"/>\n<polygon fill=\"black\" stroke=\"black\" points=\"231.57,-475.39 223.72,-468.28 225.42,-478.73 231.57,-475.39\"/>\n</g>\n<!-- bnvar -->\n<g id=\"node9\" class=\"node\">\n<title>bnvar</title>\n<polygon fill=\"lightgray\" stroke=\"black\" points=\"323.34,-468 259.34,-468 259.34,-432 323.34,-432 323.34,-468\"/>\n<text text-anchor=\"middle\" x=\"291.34\" y=\"-446.3\" font-family=\"Times,serif\" font-size=\"14.00\">Variance</text>\n</g>\n<!-- hprebn&#45;&gt;bnvar -->\n<g id=\"edge8\" class=\"edge\">\n<title>hprebn&#45;&gt;bnvar</title>\n<path fill=\"none\" stroke=\"black\" d=\"M261.78,-504.05C266.27,-496.01 271.73,-486.2 276.73,-477.23\"/>\n<polygon fill=\"black\" stroke=\"black\" points=\"279.91,-478.71 281.72,-468.28 273.79,-475.31 279.91,-478.71\"/>\n</g>\n<!-- bnraw -->\n<g id=\"node10\" class=\"node\">\n<title>bnraw</title>\n<ellipse fill=\"lightblue\" stroke=\"black\" cx=\"252.34\" cy=\"-378\" rx=\"52.79\" ry=\"18\"/>\n<text text-anchor=\"middle\" x=\"252.34\" y=\"-374.3\" font-family=\"Times,serif\" font-size=\"14.00\">Normalized</text>\n</g>\n<!-- bnmeani&#45;&gt;bnraw -->\n<g id=\"edge9\" class=\"edge\">\n<title>bnmeani&#45;&gt;bnraw</title>\n<path fill=\"none\" stroke=\"black\" d=\"M223.74,-431.7C228.11,-423.64 233.4,-413.89 238.24,-404.98\"/>\n<polygon fill=\"black\" stroke=\"black\" points=\"241.36,-406.56 243.06,-396.1 235.21,-403.22 241.36,-406.56\"/>\n</g>\n<!-- bnvar&#45;&gt;bnraw -->\n<g id=\"edge10\" class=\"edge\">\n<title>bnvar&#45;&gt;bnraw</title>\n<path fill=\"none\" stroke=\"black\" d=\"M281.7,-431.7C277.22,-423.64 271.78,-413.89 266.82,-404.98\"/>\n<polygon fill=\"black\" stroke=\"black\" points=\"269.8,-403.14 261.87,-396.1 263.68,-406.54 269.8,-403.14\"/>\n</g>\n<!-- hpreact -->\n<g id=\"node13\" class=\"node\">\n<title>hpreact</title>\n<ellipse fill=\"lightblue\" stroke=\"black\" cx=\"413.34\" cy=\"-306\" rx=\"62.29\" ry=\"18\"/>\n<text text-anchor=\"middle\" x=\"413.34\" y=\"-302.3\" font-family=\"Times,serif\" font-size=\"14.00\">Pre&#45;Activation</text>\n</g>\n<!-- bnraw&#45;&gt;hpreact -->\n<g id=\"edge11\" class=\"edge\">\n<title>bnraw&#45;&gt;hpreact</title>\n<path fill=\"none\" stroke=\"black\" d=\"M283.77,-363.34C308.65,-352.52 343.66,-337.3 371.01,-325.41\"/>\n<polygon fill=\"black\" stroke=\"black\" points=\"372.56,-328.55 380.34,-321.35 369.77,-322.13 372.56,-328.55\"/>\n</g>\n<!-- bngain -->\n<g id=\"node11\" class=\"node\">\n<title>bngain</title>\n<polygon fill=\"lightcoral\" stroke=\"black\" points=\"503.9,-396 359.84,-396 322.78,-360 466.84,-360 503.9,-396\"/>\n<text text-anchor=\"middle\" x=\"413.34\" y=\"-374.3\" font-family=\"Times,serif\" font-size=\"14.00\">Scale (bngain)</text>\n</g>\n<!-- bngain&#45;&gt;hpreact -->\n<g id=\"edge12\" class=\"edge\">\n<title>bngain&#45;&gt;hpreact</title>\n<path fill=\"none\" stroke=\"black\" d=\"M413.34,-359.7C413.34,-351.98 413.34,-342.71 413.34,-334.11\"/>\n<polygon fill=\"black\" stroke=\"black\" points=\"416.84,-334.1 413.34,-324.1 409.84,-334.1 416.84,-334.1\"/>\n</g>\n<!-- bnbias -->\n<g id=\"node12\" class=\"node\">\n<title>bnbias</title>\n<polygon fill=\"lightcoral\" stroke=\"black\" points=\"695.28,-396 556.98,-396 521.41,-360 659.7,-360 695.28,-396\"/>\n<text text-anchor=\"middle\" x=\"608.34\" y=\"-374.3\" font-family=\"Times,serif\" font-size=\"14.00\">Shift (bnbias)</text>\n</g>\n<!-- bnbias&#45;&gt;hpreact -->\n<g id=\"edge13\" class=\"edge\">\n<title>bnbias&#45;&gt;hpreact</title>\n<path fill=\"none\" stroke=\"black\" d=\"M560.64,-359.88C530.12,-348.92 490.7,-334.77 460.32,-323.86\"/>\n<polygon fill=\"black\" stroke=\"black\" points=\"461.39,-320.53 450.79,-320.44 459.02,-327.12 461.39,-320.53\"/>\n</g>\n<!-- h -->\n<g id=\"node14\" class=\"node\">\n<title>h</title>\n<ellipse fill=\"lightblue\" stroke=\"black\" cx=\"413.34\" cy=\"-234\" rx=\"59.59\" ry=\"18\"/>\n<text text-anchor=\"middle\" x=\"413.34\" y=\"-230.3\" font-family=\"Times,serif\" font-size=\"14.00\">Hidden (tanh)</text>\n</g>\n<!-- hpreact&#45;&gt;h -->\n<g id=\"edge14\" class=\"edge\">\n<title>hpreact&#45;&gt;h</title>\n<path fill=\"none\" stroke=\"black\" d=\"M413.34,-287.7C413.34,-279.98 413.34,-270.71 413.34,-262.11\"/>\n<polygon fill=\"black\" stroke=\"black\" points=\"416.84,-262.1 413.34,-252.1 409.84,-262.1 416.84,-262.1\"/>\n</g>\n<!-- logits -->\n<g id=\"node17\" class=\"node\">\n<title>logits</title>\n<ellipse fill=\"lightblue\" stroke=\"black\" cx=\"580.34\" cy=\"-162\" rx=\"33.29\" ry=\"18\"/>\n<text text-anchor=\"middle\" x=\"580.34\" y=\"-158.3\" font-family=\"Times,serif\" font-size=\"14.00\">Logits</text>\n</g>\n<!-- h&#45;&gt;logits -->\n<g id=\"edge15\" class=\"edge\">\n<title>h&#45;&gt;logits</title>\n<path fill=\"none\" stroke=\"black\" d=\"M446.74,-219C475.39,-206.99 516.52,-189.75 545.56,-177.58\"/>\n<polygon fill=\"black\" stroke=\"black\" points=\"547.04,-180.75 554.91,-173.66 544.34,-174.3 547.04,-180.75\"/>\n</g>\n<!-- W2 -->\n<g id=\"node15\" class=\"node\">\n<title>W2</title>\n<polygon fill=\"lightcoral\" stroke=\"black\" points=\"670,-252 527.38,-252 490.69,-216 633.31,-216 670,-252\"/>\n<text text-anchor=\"middle\" x=\"580.34\" y=\"-230.3\" font-family=\"Times,serif\" font-size=\"14.00\">Weights (W2)</text>\n</g>\n<!-- W2&#45;&gt;logits -->\n<g id=\"edge16\" class=\"edge\">\n<title>W2&#45;&gt;logits</title>\n<path fill=\"none\" stroke=\"black\" d=\"M580.34,-215.7C580.34,-207.98 580.34,-198.71 580.34,-190.11\"/>\n<polygon fill=\"black\" stroke=\"black\" points=\"583.84,-190.1 580.34,-180.1 576.84,-190.1 583.84,-190.1\"/>\n</g>\n<!-- b2 -->\n<g id=\"node16\" class=\"node\">\n<title>b2</title>\n<polygon fill=\"lightcoral\" stroke=\"black\" points=\"815.04,-252 713.71,-252 687.65,-216 788.97,-216 815.04,-252\"/>\n<text text-anchor=\"middle\" x=\"751.34\" y=\"-230.3\" font-family=\"Times,serif\" font-size=\"14.00\">Bias (b2)</text>\n</g>\n<!-- b2&#45;&gt;logits -->\n<g id=\"edge17\" class=\"edge\">\n<title>b2&#45;&gt;logits</title>\n<path fill=\"none\" stroke=\"black\" d=\"M709.51,-215.88C680.72,-204.09 642.89,-188.6 615.62,-177.44\"/>\n<polygon fill=\"black\" stroke=\"black\" points=\"616.67,-174.09 606.08,-173.54 614.01,-180.57 616.67,-174.09\"/>\n</g>\n<!-- softmax -->\n<g id=\"node18\" class=\"node\">\n<title>softmax</title>\n<polygon fill=\"lightgray\" stroke=\"black\" points=\"611.84,-108 548.84,-108 548.84,-72 611.84,-72 611.84,-108\"/>\n<text text-anchor=\"middle\" x=\"580.34\" y=\"-86.3\" font-family=\"Times,serif\" font-size=\"14.00\">Softmax</text>\n</g>\n<!-- logits&#45;&gt;softmax -->\n<g id=\"edge18\" class=\"edge\">\n<title>logits&#45;&gt;softmax</title>\n<path fill=\"none\" stroke=\"black\" d=\"M580.34,-143.7C580.34,-135.98 580.34,-126.71 580.34,-118.11\"/>\n<polygon fill=\"black\" stroke=\"black\" points=\"583.84,-118.1 580.34,-108.1 576.84,-118.1 583.84,-118.1\"/>\n</g>\n<!-- loss -->\n<g id=\"node19\" class=\"node\">\n<title>loss</title>\n<ellipse fill=\"coral\" stroke=\"black\" cx=\"580.34\" cy=\"-18\" rx=\"81.49\" ry=\"18\"/>\n<text text-anchor=\"middle\" x=\"580.34\" y=\"-14.3\" font-family=\"Times,serif\" font-size=\"14.00\">Cross&#45;Entropy Loss</text>\n</g>\n<!-- softmax&#45;&gt;loss -->\n<g id=\"edge19\" class=\"edge\">\n<title>softmax&#45;&gt;loss</title>\n<path fill=\"none\" stroke=\"black\" d=\"M580.34,-71.7C580.34,-63.98 580.34,-54.71 580.34,-46.11\"/>\n<polygon fill=\"black\" stroke=\"black\" points=\"583.84,-46.1 580.34,-36.1 576.84,-46.1 583.84,-46.1\"/>\n</g>\n</g>\n</svg>\n",
            "text/plain": [
              "<graphviz.graphs.Digraph at 0x7a9e5e12b290>"
            ]
          },
          "metadata": {},
          "execution_count": 14
        }
      ]
    },
    {
      "cell_type": "code",
      "source": [
        "print(f\"Target values: {Yb}\")\n",
        "print(\"------\")\n",
        "print(\"Loss function = -logprobs[range(n), Yb].mean()\")\n",
        "print(\"------\")\n",
        "print(f\"Log probs = {logprobs[range(n), Yb]}\")\n",
        "print(\"------\")\n",
        "print(f\"Mean of negative log probs = {-logprobs[range(n), Yb].mean()}\")"
      ],
      "metadata": {
        "colab": {
          "base_uri": "https://localhost:8080/"
        },
        "id": "cUBPFNqiHu15",
        "outputId": "3d586e2e-efe2-4b35-9e34-c7088b7536e4"
      },
      "execution_count": 15,
      "outputs": [
        {
          "output_type": "stream",
          "name": "stdout",
          "text": [
            "Target values: tensor([ 8, 14, 15, 22,  0, 19,  9, 14,  5,  1, 20,  3,  8, 14, 12,  0, 11,  0,\n",
            "        26,  9, 25,  0,  1,  1,  7, 18,  9,  3,  5,  9,  0, 18])\n",
            "------\n",
            "Loss function = -logprobs[range(n), Yb].mean()\n",
            "------\n",
            "Log probs = tensor([-4.0064, -3.0567, -3.5993, -3.2655, -4.0808, -3.4912, -3.1203, -3.9666,\n",
            "        -3.0518, -4.3037, -3.1106, -1.7095, -2.7717, -2.8599, -3.0807, -3.0992,\n",
            "        -3.8089, -2.9392, -3.6397, -3.3518, -2.8625, -2.9540, -4.3939, -4.0478,\n",
            "        -3.5231, -2.8816, -2.9497, -3.9790, -2.7003, -3.4085, -3.3049, -3.0755],\n",
            "       grad_fn=<IndexBackward0>)\n",
            "------\n",
            "Mean of negative log probs = 3.324815273284912\n"
          ]
        }
      ]
    },
    {
      "cell_type": "code",
      "source": [
        "dlogprobs = torch.zeros_like(logprobs)\n",
        "len(dlogprobs[0])"
      ],
      "metadata": {
        "colab": {
          "base_uri": "https://localhost:8080/"
        },
        "id": "-mxDrX-1tqM_",
        "outputId": "33cb4bfe-59f2-465c-cf76-4bbea873f54e"
      },
      "execution_count": 16,
      "outputs": [
        {
          "output_type": "execute_result",
          "data": {
            "text/plain": [
              "27"
            ]
          },
          "metadata": {},
          "execution_count": 16
        }
      ]
    },
    {
      "cell_type": "markdown",
      "source": [
        "## Exercises"
      ],
      "metadata": {
        "id": "d7rglBkSBh1e"
      }
    },
    {
      "cell_type": "code",
      "source": [
        "# Exercise 1: backprop through the whole thing manually,\n",
        "# backpropagating through exactly all of the variables\n",
        "# as they are defined in the forward pass above, one by one\n",
        "\n",
        "dlogprobs = torch.zeros_like(logprobs)\n",
        "dlogprobs[range(n), Yb] = -1.0/n\n",
        "dprobs = (1.0 / probs) * dlogprobs\n",
        "dcounts_sum_inv = (counts * dprobs).sum(1, keepdim=True)\n",
        "dcounts = counts_sum_inv * dprobs\n",
        "dcounts_sum = (-counts_sum**-2) * dcounts_sum_inv\n",
        "dcounts += torch.ones_like(counts) * dcounts_sum\n",
        "dnorm_logits = counts * dcounts\n",
        "dlogits = dnorm_logits.clone()\n",
        "dlogit_maxes = (-dnorm_logits).sum(1, keepdim=True)\n",
        "dlogits += F.one_hot(logits.max(1).indices, num_classes=logits.shape[1]) * dlogit_maxes\n",
        "dh = dlogits @ W2.T\n",
        "dW2 = h.T @ dlogits\n",
        "db2 = dlogits.sum(0)\n",
        "dhpreact = (1.0 - h**2) * dh\n",
        "dbngain = (bnraw * dhpreact).sum(0, keepdim=True)\n",
        "dbnraw = bngain * dhpreact\n",
        "dbnbias = dhpreact.sum(0, keepdim=True)\n",
        "dbndiff = bnvar_inv * dbnraw\n",
        "dbnvar_inv = (bndiff * dbnraw).sum(0, keepdim=True)\n",
        "dbnvar = (-0.5*(bnvar + 1e-5)**-1.5) * dbnvar_inv\n",
        "dbndiff2 = (1.0/(n-1))*torch.ones_like(bndiff2) * dbnvar\n",
        "dbndiff += (2*bndiff) * dbndiff2\n",
        "dhprebn = dbndiff.clone()\n",
        "dbnmeani = (-dbndiff).sum(0)\n",
        "dhprebn += 1.0/n * (torch.ones_like(hprebn) * dbnmeani)\n",
        "dembcat = dhprebn @ W1.T\n",
        "dW1 = embcat.T @ dhprebn\n",
        "db1 = dhprebn.sum(0)\n",
        "demb = dembcat.view(emb.shape)\n",
        "dC = torch.zeros_like(C)\n",
        "for k in range(Xb.shape[0]):\n",
        "  for j in range(Xb.shape[1]):\n",
        "    ix = Xb[k,j]\n",
        "    dC[ix] += demb[k,j]\n",
        "\n",
        "cmp('logprobs', dlogprobs, logprobs)\n",
        "cmp('probs', dprobs, probs)\n",
        "cmp('counts_sum_inv', dcounts_sum_inv, counts_sum_inv)\n",
        "cmp('counts_sum', dcounts_sum, counts_sum)\n",
        "cmp('counts', dcounts, counts)\n",
        "cmp('norm_logits', dnorm_logits, norm_logits)\n",
        "cmp('logit_maxes', dlogit_maxes, logit_maxes)\n",
        "cmp('logits', dlogits, logits)\n",
        "cmp('h', dh, h)\n",
        "cmp('W2', dW2, W2)\n",
        "cmp('b2', db2, b2)\n",
        "cmp('hpreact', dhpreact, hpreact)\n",
        "cmp('bngain', dbngain, bngain)\n",
        "cmp('bnbias', dbnbias, bnbias)\n",
        "cmp('bnraw', dbnraw, bnraw)\n",
        "cmp('bnvar_inv', dbnvar_inv, bnvar_inv)\n",
        "cmp('bnvar', dbnvar, bnvar)\n",
        "cmp('bndiff2', dbndiff2, bndiff2)\n",
        "cmp('bndiff', dbndiff, bndiff)\n",
        "cmp('bnmeani', dbnmeani, bnmeani)\n",
        "cmp('hprebn', dhprebn, hprebn)\n",
        "cmp('embcat', dembcat, embcat)\n",
        "cmp('W1', dW1, W1)\n",
        "cmp('b1', db1, b1)\n",
        "cmp('emb', demb, emb)\n",
        "cmp('C', dC, C)"
      ],
      "metadata": {
        "colab": {
          "base_uri": "https://localhost:8080/"
        },
        "id": "rhokdtaHEzHh",
        "outputId": "e3b7f4af-879a-4823-be51-b5306b9795e5"
      },
      "execution_count": 29,
      "outputs": [
        {
          "output_type": "stream",
          "name": "stdout",
          "text": [
            "logprobs        | exact: True  | approximate: True  | maxdiff: 0.0\n",
            "probs           | exact: True  | approximate: True  | maxdiff: 0.0\n",
            "counts_sum_inv  | exact: True  | approximate: True  | maxdiff: 0.0\n",
            "counts_sum      | exact: True  | approximate: True  | maxdiff: 0.0\n",
            "counts          | exact: True  | approximate: True  | maxdiff: 0.0\n",
            "norm_logits     | exact: True  | approximate: True  | maxdiff: 0.0\n",
            "logit_maxes     | exact: True  | approximate: True  | maxdiff: 0.0\n",
            "logits          | exact: True  | approximate: True  | maxdiff: 0.0\n",
            "h               | exact: True  | approximate: True  | maxdiff: 0.0\n",
            "W2              | exact: True  | approximate: True  | maxdiff: 0.0\n",
            "b2              | exact: True  | approximate: True  | maxdiff: 0.0\n",
            "hpreact         | exact: False | approximate: True  | maxdiff: 4.656612873077393e-10\n",
            "bngain          | exact: False | approximate: True  | maxdiff: 1.862645149230957e-09\n",
            "bnbias          | exact: False | approximate: True  | maxdiff: 3.725290298461914e-09\n",
            "bnraw           | exact: False | approximate: True  | maxdiff: 4.656612873077393e-10\n",
            "bnvar_inv       | exact: False | approximate: True  | maxdiff: 3.725290298461914e-09\n",
            "bnvar           | exact: False | approximate: True  | maxdiff: 1.862645149230957e-09\n",
            "bndiff2         | exact: False | approximate: True  | maxdiff: 5.820766091346741e-11\n",
            "bndiff          | exact: False | approximate: True  | maxdiff: 4.656612873077393e-10\n",
            "bnmeani         | exact: False | approximate: True  | maxdiff: 3.725290298461914e-09\n",
            "hprebn          | exact: False | approximate: True  | maxdiff: 4.656612873077393e-10\n",
            "embcat          | exact: False | approximate: True  | maxdiff: 1.862645149230957e-09\n",
            "W1              | exact: False | approximate: True  | maxdiff: 5.587935447692871e-09\n",
            "b1              | exact: False | approximate: True  | maxdiff: 3.259629011154175e-09\n",
            "emb             | exact: False | approximate: True  | maxdiff: 1.862645149230957e-09\n",
            "C               | exact: False | approximate: True  | maxdiff: 7.450580596923828e-09\n"
          ]
        }
      ]
    },
    {
      "cell_type": "code",
      "execution_count": 18,
      "metadata": {
        "id": "ebLtYji_8PPw",
        "colab": {
          "base_uri": "https://localhost:8080/"
        },
        "outputId": "b9e1d90e-23d2-476d-e9a3-c69389700c83"
      },
      "outputs": [
        {
          "output_type": "stream",
          "name": "stdout",
          "text": [
            "3.324815034866333 diff: -2.384185791015625e-07\n"
          ]
        }
      ],
      "source": [
        "# Exercise 2: backprop through cross_entropy but all in one go\n",
        "# to complete this challenge look at the mathematical expression of the loss,\n",
        "# take the derivative, simplify the expression, and just write it out\n",
        "\n",
        "# forward pass\n",
        "\n",
        "# before:\n",
        "# logit_maxes = logits.max(1, keepdim=True).values\n",
        "# norm_logits = logits - logit_maxes # subtract max for numerical stability\n",
        "# counts = norm_logits.exp()\n",
        "# counts_sum = counts.sum(1, keepdims=True)\n",
        "# counts_sum_inv = counts_sum**-1 # if I use (1.0 / counts_sum) instead then I can't get backprop to be bit exact...\n",
        "# probs = counts * counts_sum_inv\n",
        "# logprobs = probs.log()\n",
        "# loss = -logprobs[range(n), Yb].mean()\n",
        "\n",
        "# now:\n",
        "loss_fast = F.cross_entropy(logits, Yb)\n",
        "print(loss_fast.item(), 'diff:', (loss_fast - loss).item())"
      ]
    },
    {
      "cell_type": "code",
      "execution_count": 30,
      "metadata": {
        "id": "-gCXbB4C8PPx"
      },
      "outputs": [],
      "source": [
        "# backward pass\n",
        "\n",
        "# -----------------\n",
        "dlogits = F.softmax(logits, 1)\n",
        "dlogits[range(n), Yb] -= 1\n",
        "dlogits /= n\n",
        "# -----------------\n",
        "\n",
        "#cmp('logits', dlogits, logits) # I can only get approximate to be true, my maxdiff is 6e-9"
      ]
    },
    {
      "cell_type": "code",
      "execution_count": 20,
      "metadata": {
        "id": "hd-MkhB68PPy",
        "colab": {
          "base_uri": "https://localhost:8080/"
        },
        "outputId": "e3afbbff-9508-44ba-cecf-46e4d606cb92"
      },
      "outputs": [
        {
          "output_type": "stream",
          "name": "stdout",
          "text": [
            "max diff: tensor(4.7684e-07, grad_fn=<MaxBackward1>)\n"
          ]
        }
      ],
      "source": [
        "# Exercise 3: backprop through batchnorm but all in one go\n",
        "# to complete this challenge look at the mathematical expression of the output of batchnorm,\n",
        "# take the derivative w.r.t. its input, simplify the expression, and just write it out\n",
        "# BatchNorm paper: https://arxiv.org/abs/1502.03167\n",
        "\n",
        "# forward pass\n",
        "\n",
        "# before:\n",
        "# bnmeani = 1/n*hprebn.sum(0, keepdim=True)\n",
        "# bndiff = hprebn - bnmeani\n",
        "# bndiff2 = bndiff**2\n",
        "# bnvar = 1/(n-1)*(bndiff2).sum(0, keepdim=True) # note: Bessel's correction (dividing by n-1, not n)\n",
        "# bnvar_inv = (bnvar + 1e-5)**-0.5\n",
        "# bnraw = bndiff * bnvar_inv\n",
        "# hpreact = bngain * bnraw + bnbias\n",
        "\n",
        "# now:\n",
        "hpreact_fast = bngain * (hprebn - hprebn.mean(0, keepdim=True)) / torch.sqrt(hprebn.var(0, keepdim=True, unbiased=True) + 1e-5) + bnbias\n",
        "print('max diff:', (hpreact_fast - hpreact).abs().max())"
      ]
    },
    {
      "cell_type": "code",
      "execution_count": 31,
      "metadata": {
        "id": "POdeZSKT8PPy",
        "colab": {
          "base_uri": "https://localhost:8080/"
        },
        "outputId": "173bf69d-e625-41ae-af05-25d050da7e17"
      },
      "outputs": [
        {
          "output_type": "stream",
          "name": "stdout",
          "text": [
            "hprebn          | exact: False | approximate: True  | maxdiff: 1.3969838619232178e-09\n"
          ]
        }
      ],
      "source": [
        "# backward pass\n",
        "\n",
        "# before we had:\n",
        "# dbnraw = bngain * dhpreact\n",
        "# dbndiff = bnvar_inv * dbnraw\n",
        "# dbnvar_inv = (bndiff * dbnraw).sum(0, keepdim=True)\n",
        "# dbnvar = (-0.5*(bnvar + 1e-5)**-1.5) * dbnvar_inv\n",
        "# dbndiff2 = (1.0/(n-1))*torch.ones_like(bndiff2) * dbnvar\n",
        "# dbndiff += (2*bndiff) * dbndiff2\n",
        "# dhprebn = dbndiff.clone()\n",
        "# dbnmeani = (-dbndiff).sum(0)\n",
        "# dhprebn += 1.0/n * (torch.ones_like(hprebn) * dbnmeani)\n",
        "\n",
        "# calculate dhprebn given dhpreact (i.e. backprop through the batchnorm)\n",
        "# (you'll also need to use some of the variables from the forward pass up above)\n",
        "\n",
        "# -----------------\n",
        "dhprebn = bngain*bnvar_inv/n * (n*dhpreact - dhpreact.sum(0) - n/(n-1)*bnraw*(dhpreact*bnraw).sum(0))\n",
        "# -----------------\n",
        "\n",
        "cmp('hprebn', dhprebn, hprebn) # I can only get approximate to be true, my maxdiff is 9e-10"
      ]
    },
    {
      "cell_type": "code",
      "execution_count": 40,
      "metadata": {
        "id": "wPy8DhqB8PPz",
        "colab": {
          "base_uri": "https://localhost:8080/"
        },
        "outputId": "cd3caaf0-1e3c-4c36-c7d7-4ea0d59486c9"
      },
      "outputs": [
        {
          "output_type": "stream",
          "name": "stdout",
          "text": [
            "12297\n",
            "      0/ 200000: 3.7655\n",
            "  10000/ 200000: 2.1575\n",
            "  20000/ 200000: 2.3705\n",
            "  30000/ 200000: 2.4710\n",
            "  40000/ 200000: 1.9956\n",
            "  50000/ 200000: 2.4046\n",
            "  60000/ 200000: 2.2977\n",
            "  70000/ 200000: 2.0963\n",
            "  80000/ 200000: 2.3754\n",
            "  90000/ 200000: 2.1612\n",
            " 100000/ 200000: 1.9760\n",
            " 110000/ 200000: 2.3266\n",
            " 120000/ 200000: 1.9945\n",
            " 130000/ 200000: 2.4494\n",
            " 140000/ 200000: 2.3250\n",
            " 150000/ 200000: 2.2003\n",
            " 160000/ 200000: 2.0068\n",
            " 170000/ 200000: 1.8556\n",
            " 180000/ 200000: 1.9564\n",
            " 190000/ 200000: 1.9224\n"
          ]
        }
      ],
      "source": [
        "# Exercise 4: putting it all together!\n",
        "# Train the MLP neural net with your own backward pass\n",
        "\n",
        "# init\n",
        "n_embd = 10 # the dimensionality of the character embedding vectors\n",
        "n_hidden = 200 # the number of neurons in the hidden layer of the MLP\n",
        "\n",
        "g = torch.Generator().manual_seed(2147483647) # for reproducibility\n",
        "C  = torch.randn((vocab_size, n_embd),            generator=g)\n",
        "# Layer 1\n",
        "W1 = torch.randn((n_embd * block_size, n_hidden), generator=g) * (5/3)/((n_embd * block_size)**0.5)\n",
        "b1 = torch.randn(n_hidden,                        generator=g) * 0.1\n",
        "# Layer 2\n",
        "W2 = torch.randn((n_hidden, vocab_size),          generator=g) * 0.1\n",
        "b2 = torch.randn(vocab_size,                      generator=g) * 0.1\n",
        "# BatchNorm parameters\n",
        "bngain = torch.randn((1, n_hidden))*0.1 + 1.0\n",
        "bnbias = torch.randn((1, n_hidden))*0.1\n",
        "\n",
        "parameters = [C, W1, b1, W2, b2, bngain, bnbias]\n",
        "print(sum(p.nelement() for p in parameters)) # number of parameters in total\n",
        "for p in parameters:\n",
        "  p.requires_grad = True\n",
        "\n",
        "# same optimization as last time\n",
        "max_steps = 200000\n",
        "batch_size = 32\n",
        "n = batch_size # convenience\n",
        "lossi = []\n",
        "\n",
        "# use this context manager for efficiency once your backward pass is written (TODO)\n",
        "with torch.no_grad():\n",
        "\n",
        "  # kick off optimization\n",
        "  for i in range(max_steps):\n",
        "\n",
        "    # minibatch construct\n",
        "    ix = torch.randint(0, Xtr.shape[0], (batch_size,), generator=g)\n",
        "    Xb, Yb = Xtr[ix], Ytr[ix] # batch X,Y\n",
        "\n",
        "    # forward pass\n",
        "    emb = C[Xb] # embed the characters into vectors\n",
        "    embcat = emb.view(emb.shape[0], -1) # concatenate the vectors\n",
        "    # Linear layer\n",
        "    hprebn = embcat @ W1 + b1 # hidden layer pre-activation\n",
        "    # BatchNorm layer\n",
        "    # -------------------------------------------------------------\n",
        "    bnmean = hprebn.mean(0, keepdim=True)\n",
        "    bnvar = hprebn.var(0, keepdim=True, unbiased=True)\n",
        "    bnvar_inv = (bnvar + 1e-5)**-0.5\n",
        "    bnraw = (hprebn - bnmean) * bnvar_inv\n",
        "    hpreact = bngain * bnraw + bnbias\n",
        "    # -------------------------------------------------------------\n",
        "    # Non-linearity\n",
        "    h = torch.tanh(hpreact) # hidden layer\n",
        "    logits = h @ W2 + b2 # output layer\n",
        "    loss = F.cross_entropy(logits, Yb) # loss function\n",
        "\n",
        "    # backward pass\n",
        "    for p in parameters:\n",
        "      p.grad = None\n",
        "    #loss.backward() # use this for correctness comparisons, delete it later!\n",
        "\n",
        "    # manual backprop! #swole_doge_meme\n",
        "    # -----------------\n",
        "    dlogits = F.softmax(logits, 1)\n",
        "    dlogits[range(n), Yb] -= 1\n",
        "    dlogits /= n\n",
        "    # 2nd layer backprop\n",
        "    dh = dlogits @ W2.T\n",
        "    dW2 = h.T @ dlogits\n",
        "    db2 = dlogits.sum(0)\n",
        "    # tanh\n",
        "    dhpreact = (1.0 - h**2) * dh\n",
        "    # batchnorm backprop\n",
        "    dbngain = (bnraw * dhpreact).sum(0, keepdim=True)\n",
        "    dbnbias = dhpreact.sum(0, keepdim=True)\n",
        "    dhprebn = bngain*bnvar_inv/n * (n*dhpreact - dhpreact.sum(0) - n/(n-1)*bnraw*(dhpreact*bnraw).sum(0))\n",
        "    # 1st layer\n",
        "    dembcat = dhprebn @ W1.T\n",
        "    dW1 = embcat.T @ dhprebn\n",
        "    db1 = dhprebn.sum(0)\n",
        "    # embedding\n",
        "    demb = dembcat.view(emb.shape)\n",
        "    dC = torch.zeros_like(C)\n",
        "    for k in range(Xb.shape[0]):\n",
        "      for j in range(Xb.shape[1]):\n",
        "        ix = Xb[k,j]\n",
        "        dC[ix] += demb[k,j]\n",
        "    grads = [dC, dW1, db1, dW2, db2, dbngain, dbnbias]\n",
        "    # -----------------\n",
        "\n",
        "    # update\n",
        "    lr = 0.1 if i < 100000 else 0.01 # step learning rate decay\n",
        "    for p, grad in zip(parameters, grads):\n",
        "      #p.data += -lr * p.grad # old way of cheems doge (using PyTorch grad from .backward())\n",
        "      p.data += -lr * grad # new way of swole doge TODO: enable\n",
        "\n",
        "    # track stats\n",
        "    if i % 10000 == 0: # print every once in a while\n",
        "      print(f'{i:7d}/{max_steps:7d}: {loss.item():.4f}')\n",
        "    lossi.append(loss.log10().item())\n",
        "\n",
        "  #   if i >= 100: # TODO: delete early breaking when you're ready to train the full net\n",
        "  #     break"
      ]
    },
    {
      "cell_type": "markdown",
      "source": [
        "## Batch Norm"
      ],
      "metadata": {
        "id": "2dIQzAcjBx3K"
      }
    },
    {
      "cell_type": "code",
      "execution_count": 44,
      "metadata": {
        "id": "KImLWNoh8PP0"
      },
      "outputs": [],
      "source": [
        "# calibrate the batch norm at the end of training\n",
        "\n",
        "with torch.no_grad():\n",
        "  # pass the training set through\n",
        "  emb = C[Xtr]\n",
        "  embcat = emb.view(emb.shape[0], -1)\n",
        "  hpreact = embcat @ W1 + b1\n",
        "  # measure the mean/std over the entire training set\n",
        "  bnmean = hpreact.mean(0, keepdim=True)\n",
        "  bnvar = hpreact.var(0, keepdim=True, unbiased=True)\n"
      ]
    },
    {
      "cell_type": "code",
      "execution_count": 45,
      "metadata": {
        "id": "6aFnP_Zc8PP0",
        "colab": {
          "base_uri": "https://localhost:8080/"
        },
        "outputId": "13dcca5b-b92f-47fa-f1cd-e3777c818586"
      },
      "outputs": [
        {
          "output_type": "stream",
          "name": "stdout",
          "text": [
            "train 2.0718064308166504\n",
            "val 2.1066830158233643\n"
          ]
        }
      ],
      "source": [
        "# evaluate train and val loss\n",
        "\n",
        "@torch.no_grad() # this decorator disables gradient tracking\n",
        "def split_loss(split):\n",
        "  x,y = {\n",
        "    'train': (Xtr, Ytr),\n",
        "    'val': (Xdev, Ydev),\n",
        "    'test': (Xte, Yte),\n",
        "  }[split]\n",
        "  emb = C[x] # (N, block_size, n_embd)\n",
        "  embcat = emb.view(emb.shape[0], -1) # concat into (N, block_size * n_embd)\n",
        "  hpreact = embcat @ W1 + b1\n",
        "  hpreact = bngain * (hpreact - bnmean) * (bnvar + 1e-5)**-0.5 + bnbias\n",
        "  h = torch.tanh(hpreact) # (N, n_hidden)\n",
        "  logits = h @ W2 + b2 # (N, vocab_size)\n",
        "  loss = F.cross_entropy(logits, y)\n",
        "  print(split, loss.item())\n",
        "\n",
        "split_loss('train')\n",
        "split_loss('val')"
      ]
    },
    {
      "cell_type": "markdown",
      "source": [
        "## Sample from the Model"
      ],
      "metadata": {
        "id": "XpPBTrocBpWd"
      }
    },
    {
      "cell_type": "code",
      "execution_count": 46,
      "metadata": {
        "id": "xHeQNv3s8PP1",
        "colab": {
          "base_uri": "https://localhost:8080/"
        },
        "outputId": "1d7aae53-d3e6-4976-d5db-b404d8cc12bd"
      },
      "outputs": [
        {
          "output_type": "stream",
          "name": "stdout",
          "text": [
            "mora.\n",
            "mayah.\n",
            "see.\n",
            "mad.\n",
            "ryla.\n",
            "reisha.\n",
            "ejdon.\n",
            "grace.\n",
            "kaitlin.\n",
            "shi.\n",
            "jenleigh.\n",
            "sana.\n",
            "arleigh.\n",
            "malaia.\n",
            "noshub.\n",
            "roshirael.\n",
            "kin.\n",
            "renlynn.\n",
            "novana.\n",
            "uramyad.\n"
          ]
        }
      ],
      "source": [
        "# sample from the model\n",
        "g = torch.Generator().manual_seed(2147483647 + 10)\n",
        "\n",
        "for _ in range(20):\n",
        "\n",
        "    out = []\n",
        "    context = [0] * block_size # initialize with all ...\n",
        "    while True:\n",
        "      # forward pass\n",
        "      emb = C[torch.tensor([context])] # (1,block_size,d)\n",
        "      embcat = emb.view(emb.shape[0], -1) # concat into (N, block_size * n_embd)\n",
        "      hpreact = embcat @ W1 + b1\n",
        "      hpreact = bngain * (hpreact - bnmean) * (bnvar + 1e-5)**-0.5 + bnbias\n",
        "      h = torch.tanh(hpreact) # (N, n_hidden)\n",
        "      logits = h @ W2 + b2 # (N, vocab_size)\n",
        "      # sample\n",
        "      probs = F.softmax(logits, dim=1)\n",
        "      ix = torch.multinomial(probs, num_samples=1, generator=g).item()\n",
        "      context = context[1:] + [ix]\n",
        "      out.append(ix)\n",
        "      if ix == 0:\n",
        "        break\n",
        "\n",
        "    print(''.join(itos[i] for i in out))"
      ]
    }
  ],
  "metadata": {
    "kernelspec": {
      "display_name": "Python 3",
      "language": "python",
      "name": "python3"
    },
    "language_info": {
      "codemirror_mode": {
        "name": "ipython",
        "version": 3
      },
      "file_extension": ".py",
      "mimetype": "text/x-python",
      "name": "python",
      "nbconvert_exporter": "python",
      "pygments_lexer": "ipython3",
      "version": "3.8.5"
    },
    "colab": {
      "provenance": [],
      "include_colab_link": true
    }
  },
  "nbformat": 4,
  "nbformat_minor": 0
}